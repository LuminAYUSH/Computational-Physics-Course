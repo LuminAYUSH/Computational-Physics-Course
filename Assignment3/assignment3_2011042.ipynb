{
 "cells": [
  {
   "cell_type": "markdown",
   "id": "116bf9bf",
   "metadata": {},
   "source": [
    "# P346 Assignment 3"
   ]
  },
  {
   "cell_type": "code",
   "execution_count": 1,
   "id": "ee4d58fd",
   "metadata": {},
   "outputs": [],
   "source": [
    "from mylib import * # importing all the function and classes from my library file"
   ]
  },
  {
   "cell_type": "code",
   "execution_count": 2,
   "id": "62f36341",
   "metadata": {},
   "outputs": [],
   "source": [
    "#Extracting and storing all the data from the external .txt file in the dictionary format\n",
    "#with matrix/vector name as its key and the array stored as its value\n",
    "data = read_arr('assignment3.txt')"
   ]
  },
  {
   "cell_type": "markdown",
   "id": "9abab85e",
   "metadata": {},
   "source": [
    "## Problem 1"
   ]
  },
  {
   "cell_type": "code",
   "execution_count": 3,
   "id": "7c2b2380",
   "metadata": {},
   "outputs": [],
   "source": [
    "# Extracting required arrays into the following variables\n",
    "# Note: Plese refer my library file to check how I implemented all these functions!!\n",
    "M1,V1 = data['matrix_1'],data['vector_1']"
   ]
  },
  {
   "cell_type": "code",
   "execution_count": 4,
   "id": "b2ad85db",
   "metadata": {},
   "outputs": [
    {
     "name": "stdout",
     "output_type": "stream",
     "text": [
      "Gauss-Jordan solution : [-1.762, 0.896, 4.052, -1.617, 2.042, 0.152]\n"
     ]
    }
   ],
   "source": [
    "# Gauss-Jordan solution\n",
    "sol1 = Gauss_Jordan_Solve(M1,V1)\n",
    "print(f\"Gauss-Jordan solution : {sol1}\")"
   ]
  },
  {
   "cell_type": "code",
   "execution_count": 5,
   "id": "dc095237",
   "metadata": {},
   "outputs": [
    {
     "name": "stdout",
     "output_type": "stream",
     "text": [
      "LU-Decomposition solution : [-1.768, 0.896, 4.053, -1.617, 2.042, 0.152]\n"
     ]
    }
   ],
   "source": [
    "#LU-Decomposition solution\n",
    "sol2 = LU_solve(M1,V1)\n",
    "print(f\"LU-Decomposition solution : {sol2}\")"
   ]
  },
  {
   "cell_type": "markdown",
   "id": "026eb528",
   "metadata": {},
   "source": [
    "## Problem 2"
   ]
  },
  {
   "cell_type": "code",
   "execution_count": 6,
   "id": "92471e26",
   "metadata": {},
   "outputs": [],
   "source": [
    "# Extracting required arrays into the following variables\n",
    "# Note: Plese refer my library file to check how I implemented all these functions!!\n",
    "M2,V2 = data['matrix_2'],data['vector_2']"
   ]
  },
  {
   "cell_type": "code",
   "execution_count": 7,
   "id": "b83cfecb",
   "metadata": {},
   "outputs": [
    {
     "name": "stdout",
     "output_type": "stream",
     "text": [
      "The given matirix is symmetric : True\n"
     ]
    }
   ],
   "source": [
    "#Checking for whther the matrix is symmetric\n",
    "print(f\"The given matirix is symmetric : {isSymmetric(M2)}\")"
   ]
  },
  {
   "cell_type": "code",
   "execution_count": 18,
   "id": "59803d04",
   "metadata": {},
   "outputs": [
    {
     "name": "stdout",
     "output_type": "stream",
     "text": [
      "Cholesky Decomposition solution : [1.0, 1.0, 1.0, 1.0, 1.0, 1.0]\n"
     ]
    }
   ],
   "source": [
    "#Solving using Cholesky Decomposition\n",
    "sol3 = Cholesky_solve(M2,V2)\n",
    "print(f\"Cholesky Decomposition solution : {sol3}\")"
   ]
  },
  {
   "cell_type": "code",
   "execution_count": 9,
   "id": "a4e37b8e",
   "metadata": {},
   "outputs": [
    {
     "name": "stdout",
     "output_type": "stream",
     "text": [
      "No of Iterations: 13\n",
      "\n",
      "Gauss-Seidel Method solution : [1.0, 1.0, 1.0, 1.0, 1.0, 1.0]\n"
     ]
    }
   ],
   "source": [
    "#Solving using Gauss-Seidel Method to a precision of 10^-6 \n",
    "#let the trial solution be:\n",
    "trial = len(V2)*[0.5] #all values be 0.5\n",
    "sol4 = Gauss_Seidel(M2,V2,trial,e=6) #e refers to the precision value\n",
    "print(f\"Gauss-Seidel Method solution : {sol4}\")"
   ]
  },
  {
   "cell_type": "markdown",
   "id": "c0c93877",
   "metadata": {},
   "source": [
    "## Problem 3"
   ]
  },
  {
   "cell_type": "code",
   "execution_count": 10,
   "id": "4f6e7928",
   "metadata": {},
   "outputs": [],
   "source": [
    "# Extracting required arrays into the following variables\n",
    "# Note: Plese refer my library file to check how I implemented all these functions!!\n",
    "M3,V3 = data['matrix_3'],data['vector_3']"
   ]
  },
  {
   "cell_type": "code",
   "execution_count": 11,
   "id": "d88b1515",
   "metadata": {},
   "outputs": [
    {
     "name": "stdout",
     "output_type": "stream",
     "text": [
      "LU-Decomposition solution : [2.98, 2.216, 0.211, 0.152, 5.715]\n"
     ]
    }
   ],
   "source": [
    "##LU-Decomposition solution without rearranging\n",
    "sol5 = LU_solve(M3,V3)\n",
    "print(f\"LU-Decomposition solution : {sol5}\")"
   ]
  },
  {
   "cell_type": "code",
   "execution_count": 14,
   "id": "c1d92973",
   "metadata": {},
   "outputs": [],
   "source": [
    "#making the given Matrices diagonally dominant\n",
    "diagonally_dominant = diagDM(M3,V3)\n",
    "M4,V4 = diagonally_dominant[0],diagonally_dominant[1]"
   ]
  },
  {
   "cell_type": "code",
   "execution_count": 15,
   "id": "5b06dc51",
   "metadata": {},
   "outputs": [
    {
     "name": "stdout",
     "output_type": "stream",
     "text": [
      "No of Iterations: 53\n",
      "\n",
      "Jocobi Method solution : [2.97917, 2.2156, 0.21129, 0.15232, 5.71503]\n"
     ]
    }
   ],
   "source": [
    "#Using Jocobi Method to find the solution to a precision of 10^-6\n",
    "#let the trial solution be:\n",
    "trial2 = len(V4)*[1] #all values be 1\n",
    "sol6 = Jacobi_method(M4,V4,trial2,e=6) #e refers to the precision value\n",
    "print(f\"Jocobi Method solution : {sol6}\")"
   ]
  },
  {
   "cell_type": "code",
   "execution_count": 17,
   "id": "eeb3b53a",
   "metadata": {},
   "outputs": [
    {
     "name": "stdout",
     "output_type": "stream",
     "text": [
      "No of Iterations: 10\n",
      "\n",
      "Gauss-Seidel Method solution : [2.97916, 2.2156, 0.21128, 0.15232, 5.71503]\n"
     ]
    }
   ],
   "source": [
    "#Solving using Gauss-Seidel Method to a precision of 10^-6 \n",
    "#let the trial solution be:\n",
    "trial3 = len(V4)*[2] #all values be 0\n",
    "sol7 = Gauss_Seidel(M4,V4,trial3,e=6) #e refers to the precision value\n",
    "print(f\"Gauss-Seidel Method solution : {sol7}\")"
   ]
  }
 ],
 "metadata": {
  "kernelspec": {
   "display_name": "Python 3 (ipykernel)",
   "language": "python",
   "name": "python3"
  },
  "language_info": {
   "codemirror_mode": {
    "name": "ipython",
    "version": 3
   },
   "file_extension": ".py",
   "mimetype": "text/x-python",
   "name": "python",
   "nbconvert_exporter": "python",
   "pygments_lexer": "ipython3",
   "version": "3.9.13"
  },
  "vscode": {
   "interpreter": {
    "hash": "fac3a4ebb392df5bab0a7fec5d8b4e26f8707b67b0f81fd10bf847cae6ab3b32"
   }
  }
 },
 "nbformat": 4,
 "nbformat_minor": 5
}
