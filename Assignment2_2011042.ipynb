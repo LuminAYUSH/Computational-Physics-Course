{
  "nbformat": 4,
  "nbformat_minor": 0,
  "metadata": {
    "colab": {
      "name": "assignment2_2011042.ipynb",
      "provenance": [],
      "collapsed_sections": []
    },
    "kernelspec": {
      "name": "python3",
      "display_name": "Python 3"
    },
    "language_info": {
      "name": "python"
    }
  },
  "cells": [
    {
      "cell_type": "code",
      "execution_count": 108,
      "metadata": {
        "id": "tLs_sepkV35m"
      },
      "outputs": [],
      "source": [
        "#q1 Importing required libraries/ mylib is my own library\n",
        "import matplotlib.pyplot as plt\n",
        "from mylib import rand_LCG"
      ]
    },
    {
      "cell_type": "code",
      "source": [
        "#q2 calculating the volume of that part of a sphere of unit radius, centered at origin,\n",
        "#which is in the first quadrant by throwing method.\n",
        "vol = 0\n",
        "n = 1000000\n",
        "x = [l/n for l in range(n)]\n",
        "y = rand_LCG(n,seed=10)\n",
        "z = rand_LCG(n,seed=15)\n",
        "for i,j,k in zip(x,y,z):\n",
        "  if i**2 + j**2 + k**2 <=1:\n",
        "    vol += 1\n",
        "print(f'the vol of the given part of the sphere is {vol/n}')\n"
      ],
      "metadata": {
        "colab": {
          "base_uri": "https://localhost:8080/"
        },
        "id": "58fdHp7uMwvY",
        "outputId": "51bc1ba1-ef1b-42ca-c17f-80e46bdd2f7c"
      },
      "execution_count": 106,
      "outputs": [
        {
          "output_type": "stream",
          "name": "stdout",
          "text": [
            "the vol of the given part of the sphere is 0.52361\n"
          ]
        }
      ]
    },
    {
      "cell_type": "code",
      "source": [
        "#q3 defining 2-d random walk function\n",
        "def random_walk(N, seed): \n",
        "  # initialising necessary variables\n",
        "  x,y = 0,0\n",
        "  rms = 0\n",
        "  x_lst, y_lst = [0], [0]\n",
        "  rand_lst = rand_LCG(N,seed)\n",
        "  for i in range(N):\n",
        "    prob = rand_lst[i]*4 # gives a random number between 0 and 4\n",
        "    # defining conditions for random walk for each probabilty interval\n",
        "    if prob >= 0 and prob <= 1:\n",
        "      x += 1\n",
        "    elif prob >= 1 and prob <= 2:\n",
        "      x -= 1\n",
        "    elif prob >= 2 and prob <= 3:\n",
        "      y += 1\n",
        "    elif prob >= 3 and prob <= 4:\n",
        "      y -= 1\n",
        "    x_lst.append(x)\n",
        "    y_lst.append(y)\n",
        "    rms += (x**2+y**2)**0.5 \n",
        "  plt.plot(x_lst,y_lst) # plotting x verses y dispacement\n",
        "  rms = rms/N\n",
        "  displacement = (x**2+y**2)**0.5\n",
        "  print(\"the rms distance is :\",rms)\n",
        "  print(\"the net displacement is :\",displacement)\n",
        "    "
      ],
      "metadata": {
        "id": "X1vUq3fMaVHf"
      },
      "execution_count": null,
      "outputs": []
    },
    {
      "cell_type": "code",
      "source": [
        "# simulating random walks using different n and seed values\n",
        "random_walk(300,seed = 5)"
      ],
      "metadata": {
        "colab": {
          "base_uri": "https://localhost:8080/",
          "height": 302
        },
        "id": "saj_oG9Gd8qu",
        "outputId": "1a421379-0463-4ced-8e2d-0dceb3d72471"
      },
      "execution_count": null,
      "outputs": [
        {
          "output_type": "stream",
          "name": "stdout",
          "text": [
            "the rms distance is : 11.943064359732169\n",
            "the net displacement is : 15.231546211727817\n"
          ]
        },
        {
          "output_type": "display_data",
          "data": {
            "text/plain": [
              "<Figure size 432x288 with 1 Axes>"
            ],
            "image/png": "[encoded data removed]"
          },
          "metadata": {
            "needs_background": "light"
          }
        }
      ]
    },
    {
      "cell_type": "code",
      "source": [
        "random_walk(600, seed = 10)"
      ],
      "metadata": {
        "colab": {
          "base_uri": "https://localhost:8080/",
          "height": 302
        },
        "id": "2MK9bmHdopKv",
        "outputId": "2b0f02b3-f824-48e7-e655-022d2b24cdc0"
      },
      "execution_count": null,
      "outputs": [
        {
          "output_type": "stream",
          "name": "stdout",
          "text": [
            "the rms distance is : 23.8086186395345\n",
            "the net displacement is : 33.37663853655727\n"
          ]
        },
        {
          "output_type": "display_data",
          "data": {
            "text/plain": [
              "<Figure size 432x288 with 1 Axes>"
            ],
            "image/png": "[encoded data removed]"
          },
          "metadata": {
            "needs_background": "light"
          }
        }
      ]
    },
    {
      "cell_type": "code",
      "source": [
        "random_walk(900, seed = 15)"
      ],
      "metadata": {
        "colab": {
          "base_uri": "https://localhost:8080/",
          "height": 302
        },
        "id": "5yl32oYEr1sy",
        "outputId": "67d01528-2140-4502-c341-556a4574cc23"
      },
      "execution_count": null,
      "outputs": [
        {
          "output_type": "stream",
          "name": "stdout",
          "text": [
            "the rms distance is : 19.58150826153405\n",
            "the net displacement is : 34.20526275297414\n"
          ]
        },
        {
          "output_type": "display_data",
          "data": {
            "text/plain": [
              "<Figure size 432x288 with 1 Axes>"
            ],
            "image/png": "[encoded data removed]"
          },
          "metadata": {
            "needs_background": "light"
          }
        }
      ]
    }
  ]
}
