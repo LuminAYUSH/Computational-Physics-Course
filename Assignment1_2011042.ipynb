{
  "nbformat": 4,
  "nbformat_minor": 0,
  "metadata": {
    "colab": {
      "name": "Assignment1_2011042.ipynb",
      "provenance": [],
      "collapsed_sections": []
    },
    "kernelspec": {
      "name": "python3",
      "display_name": "Python 3"
    },
    "language_info": {
      "name": "python"
    }
  },
  "cells": [
    {
      "cell_type": "code",
      "execution_count": null,
      "metadata": {
        "colab": {
          "base_uri": "https://localhost:8080/"
        },
        "id": "CrPcsFat_fWG",
        "outputId": "b32ce521-094d-4597-ddb5-cc002a77377d"
      },
      "outputs": [
        {
          "output_type": "stream",
          "name": "stdout",
          "text": [
            "100\n",
            "120\n"
          ]
        }
      ],
      "source": [
        "# q1: Sum of first n odd numbers:\n",
        "def sum_n_odd(n):  \n",
        "  sum = 0\n",
        "  for i in range(n):\n",
        "    sum += 2*i+1\n",
        "  return sum\n",
        "\n",
        "def factorial_N(n):\n",
        "  fact = 1\n",
        "  for i in range(1,n+1):\n",
        "    fact = fact*i\n",
        "  return fact\n",
        "\n",
        "print(sum_n_odd(10))\n",
        "print(factorial_N(5))"
      ]
    },
    {
      "cell_type": "code",
      "source": [
        "# q2 : AP, GP, HP\n",
        "def sum_AP(N, a1 = 1, cd = 1.5):\n",
        "  sum = 0\n",
        "  for _ in range(N):\n",
        "    sum += a1\n",
        "    a1 += cd\n",
        "  return sum\n",
        "\n",
        "def sum_GP(N, a1 = 1, cr = 0.5):\n",
        "  sum = 0\n",
        "  for _ in range(N):\n",
        "    sum += a1\n",
        "    a1 = a1*cr\n",
        "  return sum\n",
        "\n",
        "def sum_HP(N, a1 = 1, cd = 1.5):\n",
        "  cd = 1.5\n",
        "  a1 = 1\n",
        "  sum = 0\n",
        "  for i in range(N):\n",
        "    sum += a1\n",
        "    a1 = 1/(1/a1 + cd)\n",
        "  return sum\n",
        "\n",
        "print(sum_AP(100),sum_GP(100), sum_HP(100))\n"
      ],
      "metadata": {
        "colab": {
          "base_uri": "https://localhost:8080/"
        },
        "id": "uX_iCygbCfxT",
        "outputId": "037875cc-9e47-4738-ff56-8549fcaacb73"
      },
      "execution_count": null,
      "outputs": [
        {
          "output_type": "stream",
          "name": "stdout",
          "text": [
            "7525.0 2.0 3.950049355889155\n"
          ]
        }
      ]
    },
    {
      "cell_type": "code",
      "source": [
        "#q3 : series sum\n",
        "import matplotlib.pyplot as plt\n",
        "def series_sum(N):\n",
        "  sum = 0\n",
        "  for n in range(1,N+1):\n",
        "    sum += ((-1)**(n+1))/(2**n)\n",
        "  return sum\n",
        "\n",
        "N = 33\n",
        "x, y = [], []\n",
        "for n in range(N):\n",
        "  sum = series_sum(n)\n",
        "  x.append(n)\n",
        "  y.append(sum)\n",
        "print('{:.4f}'.format(sum))\n",
        "plt.plot(x,y)\n",
        "    "
      ],
      "metadata": {
        "colab": {
          "base_uri": "https://localhost:8080/",
          "height": 300
        },
        "id": "CB8W1MMEJYNc",
        "outputId": "d1d3965e-f14b-4743-88c3-e3afe8112956"
      },
      "execution_count": null,
      "outputs": [
        {
          "output_type": "stream",
          "name": "stdout",
          "text": [
            "0.3333\n"
          ]
        },
        {
          "output_type": "execute_result",
          "data": {
            "text/plain": [
              "[<matplotlib.lines.Line2D at 0x7f550b64e050>]"
            ]
          },
          "metadata": {},
          "execution_count": 5
        },
        {
          "output_type": "display_data",
          "data": {
            "text/plain": [
              "<Figure size 432x288 with 1 Axes>"
            ],
            "image/png": "[encoded data removed]"
          },
          "metadata": {
            "needs_background": "light"
          }
        }
      ]
    },
    {
      "cell_type": "code",
      "source": [
        "#q4 : matrix multiplication\n",
        "A = [[2,-3,1.4],[2.5,1,-2],[-0.8,0,3.1]]\n",
        "B = [[0,-1,1],[1.5,0.5,-2],[3,0,-2]]\n",
        "C = [-2,.5,1.5]\n",
        "D = [1,0,-1]\n",
        "def matrix_multiply(a,b):\n",
        "  if type(a[0]) != list:\n",
        "    return sum([i*j for i,j in zip(a,b)])\n",
        "  final = [len(b[0])*[0] for _ in range(len(a))]\n",
        "  for i in range(len(a)): # operation on number of rows\n",
        "    for j in range(len(b[0])):\n",
        "      add = sum([a[i][l]*b[l][j] for l in range(len(b))])\n",
        "      final[i][j] += round(add,2)\n",
        "  return final\n",
        "\n",
        "print('the product of matrix A and matrix B is :\\n',matrix_multiply(A,B))\n",
        "print('the product of matrix C and matrix D is :\\n',matrix_multiply(C,D))"
      ],
      "metadata": {
        "colab": {
          "base_uri": "https://localhost:8080/"
        },
        "id": "kJ1HueAmz_vb",
        "outputId": "282a68c9-c89b-40f3-f325-aaba54ed52f7"
      },
      "execution_count": 2,
      "outputs": [
        {
          "output_type": "stream",
          "name": "stdout",
          "text": [
            "the product of matrix A and matrix B is :\n",
            " [[-0.3, -3.5, 5.2], [-4.5, -2.0, 4.5], [9.3, 0.8, -7.0]]\n",
            "the product of matrix C and matrix D is :\n",
            " -3.5\n"
          ]
        }
      ]
    },
    {
      "cell_type": "code",
      "source": [
        "#q5\n",
        "class myComplex():\n",
        "  def __init__(self,x,y):\n",
        "    self.x = x\n",
        "    self.y = y\n",
        "  def add(z1,z2):\n",
        "    x_sum = z1.x + z2.x\n",
        "    y_sum = z1.y + z2.y\n",
        "    return myComplex(x_sum, y_sum)\n",
        "  def product(z1,z2):\n",
        "    x_mul = z1.x*z2.x - z1.y*z2.y\n",
        "    y_mul = z1.x*z2.y + z2.x*z1.y\n",
        "    return myComplex(x_mul,y_mul)\n",
        "  def modulus(self):\n",
        "    return (self.x**2 + self.y**2)**0.5\n",
        "  def __str__(self):\n",
        "    return f'{self.x} + {self.y}i'\n",
        "\n",
        "z1 = myComplex(3,-2) # storing 3 - 2i using myComplex class\n",
        "z2 = myComplex(1,2) # storing 1 + 2i using myComplex class\n",
        "print(z1.modulus()) # using .modulus() method to return modulus of z\n",
        "z3 = myComplex.add(z1,z2) # implementing .add method to add z1 with z2\n",
        "print(z3)\n",
        "z4 = myComplex.product(z1,z2) # implementing .product method to find the product of z1 and z2\n",
        "print(z2)\n",
        "  \n"
      ],
      "metadata": {
        "colab": {
          "base_uri": "https://localhost:8080/"
        },
        "id": "KKK3ppGe7c_B",
        "outputId": "14173f53-0721-413c-f237-dcfcdfe5647b"
      },
      "execution_count": 5,
      "outputs": [
        {
          "output_type": "stream",
          "name": "stdout",
          "text": [
            "3.605551275463989\n",
            "4 + 0i\n",
            "1 + 2i\n"
          ]
        }
      ]
    }
  ]
}